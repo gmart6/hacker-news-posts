{
 "cells": [
  {
   "cell_type": "markdown",
   "metadata": {},
   "source": [
    "# Exploring Hacker News Posts\n",
    "\n",
    "In this project, we'll be conducting some analysis on a subset of a dataset cataloguing posts to the [Hacker News site](https://news.ycombinator.com/news).\n",
    "\n",
    "For this analysis, we'll hone in on \"Ask HN\", which ask the Hacker News community for answers/opinions on a question, and \"Show HN\" posts, which share a project, product, or something generally interesting with the community. Some examples:\n",
    ">Ask HN: How to improve my personal website? <br>\n",
    "Ask HN: Am I the only one outraged by Twitter shutting down share counts? <br>\n",
    "Show HN: Something pointless I made <br>\n",
    "Show HN: Shanhu.io, a programming playground powered by e8vm\n",
    "\n",
    "The key questions we intend to answer are:\n",
    "* Do Ask HN or Show HN receive more comments on average?\n",
    "* Do posts created at a certain time receive more comments on average?\n",
    "\n",
    "The [dataset](https://www.kaggle.com/datasets/hacker-news/hacker-news-posts) we're making use of is sourced from Kaggle. Some caveats:\n",
    "* we've reduced the nearly 300,000 rows to 20,000 by removing all submissions not receiving any comments, and then taking a random sample from the remainder. This will lend itself toward more relevant results and hopefully suffice for the light analysis we have planned. \n",
    "* the dataset covers only the 12 months up to September 26 2016.\n",
    "\n",
    "Here's the description of the data (columns) from the Kaggle details:\n",
    "> * title: title of the post (self explanatory)\n",
    "> * url: the url of the item being linked to\n",
    "> * num_points: the number of upvotes the post received\n",
    "> * num_comments: the number of comments the post received\n",
    "> * author: the name of the account that made the post\n",
    "> * created_at: the date and time the post was made (the time zone is Eastern Time in the US)\n",
    "\n",
    "---\n",
    "\n",
    "## Opening and Exploring the Data\n",
    "\n",
    "We'll begin by importing the libraries we need and reading the dataset into a list of lists\n"
   ]
  },
  {
   "cell_type": "code",
   "execution_count": 20,
   "metadata": {},
   "outputs": [
    {
     "name": "stdout",
     "output_type": "stream",
     "text": [
      "[['id', 'title', 'url', 'num_points', 'num_comments', 'author', 'created_at'], ['12224879', 'Interactive Dynamic Video', 'http://www.interactivedynamicvideo.com/', '386', '52', 'ne0phyte', '8/4/2016 11:52'], ['10975351', 'How to Use Open Source and Shut the Fuck Up at the Same Time', 'http://hueniverse.com/2016/01/26/how-to-use-open-source-and-shut-the-fuck-up-at-the-same-time/', '39', '10', 'josep2', '1/26/2016 19:30'], ['11964716', \"Florida DJs May Face Felony for April Fools' Water Joke\", 'http://www.thewire.com/entertainment/2013/04/florida-djs-april-fools-water-joke/63798/', '2', '1', 'vezycash', '6/23/2016 22:20'], ['11919867', 'Technology ventures: From Idea to Enterprise', 'https://www.amazon.com/Technology-Ventures-Enterprise-Thomas-Byers/dp/0073523429', '3', '1', 'hswarna', '6/17/2016 0:01']]\n",
      "['id', 'title', 'url', 'num_points', 'num_comments', 'author', 'created_at']\n",
      "[['12224879', 'Interactive Dynamic Video', 'http://www.interactivedynamicvideo.com/', '386', '52', 'ne0phyte', '8/4/2016 11:52'], ['10975351', 'How to Use Open Source and Shut the Fuck Up at the Same Time', 'http://hueniverse.com/2016/01/26/how-to-use-open-source-and-shut-the-fuck-up-at-the-same-time/', '39', '10', 'josep2', '1/26/2016 19:30'], ['11964716', \"Florida DJs May Face Felony for April Fools' Water Joke\", 'http://www.thewire.com/entertainment/2013/04/florida-djs-april-fools-water-joke/63798/', '2', '1', 'vezycash', '6/23/2016 22:20'], ['11919867', 'Technology ventures: From Idea to Enterprise', 'https://www.amazon.com/Technology-Ventures-Enterprise-Thomas-Byers/dp/0073523429', '3', '1', 'hswarna', '6/17/2016 0:01'], ['10301696', 'Note by Note: The Making of Steinway L1037 (2007)', 'http://www.nytimes.com/2007/11/07/movies/07stein.html?_r=0', '8', '2', 'walterbell', '9/30/2015 4:12']]\n"
     ]
    }
   ],
   "source": [
    "import csv\n",
    "fhand = open('hacker_news.csv', 'r')\n",
    "hn = list(csv.reader(fhand))\n",
    "\n",
    "# Display the first five rows\n",
    "print(hn[:5])\n",
    "\n",
    "# Extract the first row of data (the dataset's headers)\n",
    "headers = hn[0]\n",
    "print(headers)\n",
    "hn = hn[1:]\n",
    "print(hn[:5])"
   ]
  },
  {
   "cell_type": "markdown",
   "metadata": {},
   "source": [
    "We'll now divide the dataset into lists for Ask HN, Show HN, and Other Posts (the remainder) for the analysis to come."
   ]
  },
  {
   "cell_type": "code",
   "execution_count": 18,
   "metadata": {},
   "outputs": [
    {
     "name": "stdout",
     "output_type": "stream",
     "text": [
      "Number of Ask HN posts: 1744\n",
      "Number of Show HN posts: 1162\n",
      "Number of Other HN posts: 17194\n"
     ]
    }
   ],
   "source": [
    "ask_posts = list()\n",
    "show_posts = list()\n",
    "other_posts = list()\n",
    "\n",
    "for row in hn:\n",
    "    title = row[1]\n",
    "    if title.lower().startswith('ask hn'):\n",
    "        ask_posts.append(row)\n",
    "    elif title.lower().startswith('show hn'):\n",
    "        show_posts.append(row)\n",
    "    else:\n",
    "        other_posts.append(row)\n",
    "        \n",
    "print('Number of Ask HN posts: {}'.format(len(ask_posts)))\n",
    "print('Number of Show HN posts: {}'.format(len(show_posts)))\n",
    "print('Number of Other HN posts: {}'.format(len(other_posts)))"
   ]
  },
  {
   "cell_type": "markdown",
   "metadata": {},
   "source": [
    "Next, we'll determine if Ask HN or Show HN posts receive more comments on average."
   ]
  },
  {
   "cell_type": "code",
   "execution_count": 19,
   "metadata": {},
   "outputs": [
    {
     "name": "stdout",
     "output_type": "stream",
     "text": [
      "Average Ask HN comments: 14.038417431192661\n",
      "Average Show HN comments: 6.873853211009174\n"
     ]
    }
   ],
   "source": [
    "total_ask_comments = 0\n",
    "for post in ask_posts:\n",
    "    num_comments = int(post[4])\n",
    "    total_ask_comments += num_comments\n",
    "    \n",
    "avg_ask_comments = total_ask_comments / len(ask_posts)\n",
    "print('Average Ask HN comments: {}'.format(avg_ask_comments))\n",
    "\n",
    "total_show_comments = 0\n",
    "for post in show_posts:\n",
    "    num_comments = int(post[4])\n",
    "    total_show_comments += num_comments\n",
    "    \n",
    "avg_show_comments = total_show_comments / len(ask_posts)\n",
    "print('Average Show HN comments: {}'.format(avg_show_comments))"
   ]
  },
  {
   "cell_type": "markdown",
   "metadata": {},
   "source": [
    "The short answer is that Ask HN posts receive more comments on average (~14 comments per post vs. ~7).\n",
    "\n",
    "We'll now progress to our second question– do posts created at a certain time receive more comments on average?\n",
    "\n",
    "First, we'll examine the Ask HN posts."
   ]
  },
  {
   "cell_type": "code",
   "execution_count": 30,
   "metadata": {},
   "outputs": [],
   "source": [
    "import datetime as dt\n",
    "\n",
    "# Create a list with our necessary data (date/time of post, comments count)\n",
    "result_list = list()\n",
    "for post in ask_posts:\n",
    "    created_at, comments = post[6], int(post[4])\n",
    "    result_list.append([created_at, comments])\n",
    "\n",
    "# Create dictionaries to track number of posts and comments by hour of posting\n",
    "counts_by_hour = dict()\n",
    "comments_by_hour = dict()\n",
    "for result in result_list:\n",
    "    dt_created_at = dt.datetime.strptime(result[0], '%m/%d/%Y %H:%M')\n",
    "    hour = dt.datetime.strftime(dt_created_at, '%H')\n",
    "    counts_by_hour[hour] = counts_by_hour.get(hour, 0) + 1\n",
    "    comments_by_hour[hour] = comments_by_hour.get(hour, 0) + result[1]\n",
    "    "
   ]
  },
  {
   "cell_type": "code",
   "execution_count": 31,
   "metadata": {},
   "outputs": [
    {
     "name": "stdout",
     "output_type": "stream",
     "text": [
      "[['09', 5.5777777777777775], ['13', 14.741176470588234], ['10', 13.440677966101696], ['14', 13.233644859813085], ['16', 16.796296296296298], ['23', 7.985294117647059], ['12', 9.41095890410959], ['17', 11.46], ['15', 38.5948275862069], ['21', 16.009174311926607], ['20', 21.525], ['02', 23.810344827586206], ['18', 13.20183486238532], ['03', 7.796296296296297], ['05', 10.08695652173913], ['19', 10.8], ['01', 11.383333333333333], ['22', 6.746478873239437], ['08', 10.25], ['04', 7.170212765957447], ['00', 8.127272727272727], ['06', 9.022727272727273], ['07', 7.852941176470588], ['11', 11.051724137931034]]\n"
     ]
    }
   ],
   "source": [
    "# Form a list of lists of the average number of comments per posting hour\n",
    "avg_by_hour = list()\n",
    "for hour in list(comments_by_hour.keys()):\n",
    "    hourly_average = comments_by_hour[hour] / counts_by_hour[hour]\n",
    "    avg_by_hour.append([hour, hourly_average])\n",
    "    \n",
    "print(avg_by_hour)"
   ]
  },
  {
   "cell_type": "code",
   "execution_count": 52,
   "metadata": {},
   "outputs": [
    {
     "name": "stdout",
     "output_type": "stream",
     "text": [
      "Top 5 Hours for Ask Posts Comments\n",
      "15:00: 38.59 average comments per post\n",
      "02:00: 23.81 average comments per post\n",
      "20:00: 21.52 average comments per post\n",
      "16:00: 16.80 average comments per post\n",
      "21:00: 16.01 average comments per post\n"
     ]
    }
   ],
   "source": [
    "# Sort hourly results by average\n",
    "\n",
    "sorted_avg_by_hour = sorted(avg_by_hour, key=lambda avg_by_hour: avg_by_hour[1],\n",
    "                            reverse=True)\n",
    "\n",
    "print('Top 5 Hours for Ask Posts Comments')\n",
    "for hourly_result in sorted_avg_by_hour[:5]:\n",
    "    time = dt.datetime.strptime(hourly_result[0], '%H')\n",
    "    print('{}: {:.2f} average comments per post'.format\n",
    "          (time.strftime('%H:00'), hourly_result[1]))\n",
    "\n"
   ]
  },
  {
   "cell_type": "markdown",
   "metadata": {},
   "source": [
    "## (early) Conclusions\n",
    "Thus, 3PM Eastern Time looks to be the best time to post an Ask HN post, based on the highest number of comments for posts at that hour. After that, it's 2AM, 8PM, 4PM, and 9PM. Given the large variation, there doesn't seem to be much of a strong correlation there. Perhaps better content leads to better engagement.\n",
    "\n",
    "Some next steps for analysis:\n",
    "* Determine the best time for a Show HN post\n",
    "* Determine if show or ask posts receive more points on average.\n",
    "* Determine if posts created at a certain time are more likely to receive more points.\n",
    "* Compare these results to the average number of comments and points \"other posts\" (non-Ask/Show) receive.\n",
    "* Expand the dataset.\n",
    "* Reformatting.\n"
   ]
  }
 ],
 "metadata": {
  "kernelspec": {
   "display_name": "Python 3",
   "language": "python",
   "name": "python3"
  },
  "language_info": {
   "codemirror_mode": {
    "name": "ipython",
    "version": 3
   },
   "file_extension": ".py",
   "mimetype": "text/x-python",
   "name": "python",
   "nbconvert_exporter": "python",
   "pygments_lexer": "ipython3",
   "version": "3.8.2"
  }
 },
 "nbformat": 4,
 "nbformat_minor": 2
}
